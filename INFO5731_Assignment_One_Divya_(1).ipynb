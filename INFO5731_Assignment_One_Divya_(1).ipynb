{
  "cells": [
    {
      "cell_type": "markdown",
      "metadata": {
        "id": "view-in-github",
        "colab_type": "text"
      },
      "source": [
        "<a href=\"https://colab.research.google.com/github/dm0969/Divya_INFO5731_Spring2023/blob/main/INFO5731_Assignment_One_Divya_(1).ipynb\" target=\"_parent\"><img src=\"https://colab.research.google.com/assets/colab-badge.svg\" alt=\"Open In Colab\"/></a>"
      ]
    },
    {
      "cell_type": "markdown",
      "metadata": {
        "id": "Ryk8D1Q4Wsrp"
      },
      "source": [
        "# **INFO5731 Assignment One**"
      ]
    },
    {
      "cell_type": "markdown",
      "metadata": {
        "id": "90_NR8c5XGWc"
      },
      "source": [
        "# Question 1\n",
        "\n",
        "(20 points). Write a Python program to generate 12 random numbers between 1 and 100. Sort the list of numbers in ascending order and print it out. Sort the list of numbers in descending order and print it out. Calculate the average for the group and print it out."
      ]
    },
    {
      "cell_type": "code",
      "execution_count": null,
      "metadata": {
        "id": "5QX6bJjGWXY9",
        "outputId": "f81658ad-02ef-442f-f034-1c05d1db9b82"
      },
      "outputs": [
        {
          "name": "stdout",
          "output_type": "stream",
          "text": [
            "random list:  [99, 69, 58, 42, 99, 76, 90, 64, 79, 85, 42, 72]\n",
            "random list in the ascending order:  [42, 42, 58, 64, 69, 72, 76, 79, 85, 90, 99, 99]\n",
            "random list in the descending order:  [99, 99, 90, 85, 79, 76, 72, 69, 64, 58, 42, 42]\n"
          ]
        }
      ],
      "source": [
        "\n",
        "import random\n",
        "\n",
        "random_numbers_gr = []\n",
        "for i in range(0,12):\n",
        "    random_numbers_gr.append(random.randint(1,100))\n",
        "print(\"random list: \",random_numbers_gr)\n",
        "random_numbers_gr.sort()\n",
        "print(\"random list in the ascending order: \",random_numbers_gr)\n",
        "random_numbers_gr.sort(reverse=True)\n",
        "print(\"random list in the descending order: \",random_numbers_gr)\n"
      ]
    },
    {
      "cell_type": "markdown",
      "metadata": {
        "id": "1F_PZdH9Sh49"
      },
      "source": [
        "# Question 2\n",
        "(25 points). Write a program that will do the following string formatting tasks:\n",
        "\n",
        "(1) Ask the user to enter two sentences.\n",
        "\n",
        "(2) Make each sentence into a list. Each element in the list should correspond to a word in the sentence. For example, if the sentence is \"Alas! Am I alive? This is my first python program\", the program should print out ['Alas, '!', 'Am', 'I', 'alive, '?', 'This', 'is', 'my', 'first', 'python', 'program'].\n",
        "\n",
        "(3) Compare the two sentences. Print out a list of words that occur in both sentences.\n",
        "\n",
        "(4) Remove any punctuation from the sentence and print it back out. It should remove at least the following characters, but it can remove more: period(“.”), comma (“,”), semicolon (“;”), and colon (“:”)\n",
        "\n",
        "(5) Count the number of vowels in the sentences. Print out each vowel and the number of times it appears in the sentences, such as: a:2, e:1, i:0, etc"
      ]
    },
    {
      "cell_type": "code",
      "execution_count": null,
      "metadata": {
        "id": "Y0oOSlsOS0cq",
        "outputId": "5e5faaf6-e4b0-4b58-8f33-31a9e04d3d2b"
      },
      "outputs": [
        {
          "name": "stdout",
          "output_type": "stream",
          "text": [
            "Enter two sentences to print\n",
            "sentence_1: Hi, hello\n",
            "sentence_2: How are you\n"
          ]
        }
      ],
      "source": [
        "\n",
        "# 1\n",
        "print(\"Enter two sentences to print\")\n",
        "sentence_1 = input(\"sentence_1: \")\n",
        "sentence_2 = input(\"sentence_2: \")\n"
      ]
    },
    {
      "cell_type": "code",
      "execution_count": null,
      "metadata": {
        "id": "tdYwUjKxMz3h",
        "outputId": "3f1f0eb9-199a-429f-d228-3026dd07e628"
      },
      "outputs": [
        {
          "name": "stdout",
          "output_type": "stream",
          "text": [
            "Hi, hello\n",
            "How are you\n",
            "['Hi,', 'hello']\n",
            "['How', 'are', 'you']\n"
          ]
        }
      ],
      "source": [
        "\n",
        "#2\n",
        "ascii_numbers_gr = []\n",
        "for g in range(33,48):\n",
        "    ascii_numbers_gr.append(i)\n",
        "for g in range(58,65):\n",
        "    ascii_numbers_gr.append(i)\n",
        "for g in range(91,97):\n",
        "    ascii_numbers_gr.append(i)\n",
        "\n",
        "for charc in sentence_1:\n",
        "    if ord(charc) in ascii_numbers_gr:\n",
        "        position = sentence_1.rfind(charc)\n",
        "        sentence_1 = sentence_1[0:position]+\" \"+sentence_1[position:]\n",
        "for charc in sentence_2:\n",
        "    if ord(charc) in ascii_numbers_gr:\n",
        "        position = sentence_2.rfind(charc)\n",
        "        sentence_2 = sentence_2[0:position]+\" \"+sentence_2[position:]\n",
        "print(sentence_1)\n",
        "print(sentence_2)\n",
        "\n",
        "sentence_1_list = sentence_1.split()\n",
        "sentence_2_list = sentence_2.split()\n",
        "\n",
        "print(sentence_1_list)\n",
        "print(sentence_2_list)"
      ]
    },
    {
      "cell_type": "code",
      "execution_count": null,
      "metadata": {
        "id": "5Nd_dLdwMz3i",
        "outputId": "2cdaf4c3-f5db-43ff-adc5-a3c863d707af"
      },
      "outputs": [
        {
          "name": "stdout",
          "output_type": "stream",
          "text": [
            "[]\n"
          ]
        }
      ],
      "source": [
        "#3\n",
        "common_words_g = []\n",
        "for words in sentence_1_list:\n",
        "    if words in sentence_2_list:\n",
        "        common_words_g.append(words)\n",
        "print(common_words_g)"
      ]
    },
    {
      "cell_type": "code",
      "execution_count": null,
      "metadata": {
        "id": "wNyQU4iJMz3j",
        "outputId": "b1d71797-f743-4cb5-f50f-088f3745932b"
      },
      "outputs": [
        {
          "name": "stdout",
          "output_type": "stream",
          "text": [
            "Hi hello\n",
            "How are you\n"
          ]
        }
      ],
      "source": [
        "#4\n",
        "import string\n",
        "\n",
        "sentence_1 = sentence_1.translate(str.maketrans('', '', string.punctuation))\n",
        "print(sentence_1)\n",
        "\n",
        "sentence_2 = sentence_2.translate(str.maketrans('', '', string.punctuation))\n",
        "print(sentence_2)"
      ]
    },
    {
      "cell_type": "code",
      "execution_count": null,
      "metadata": {
        "id": "tIbuDb4JMz3k",
        "outputId": "139e29e9-2e9b-409e-cfcf-069cbbe4316d"
      },
      "outputs": [
        {
          "name": "stdout",
          "output_type": "stream",
          "text": [
            "{'a': 1, 'e': 2, 'i': 1, 'o': 3, 'u': 1}\n"
          ]
        }
      ],
      "source": [
        "#5\n",
        "final_stnce = sentence_1 + \" \" + sentence_2\n",
        "final_stnce = final_stnce.casefold()\n",
        "\n",
        "vowels = \"aeiou\"\n",
        "count = {}.fromkeys(vowels,0)\n",
        "\n",
        "for char_g in final_stnce:\n",
        "    if char_g in count:\n",
        "        count[char_g] += 1\n",
        "\n",
        "print(count)"
      ]
    },
    {
      "cell_type": "markdown",
      "metadata": {
        "id": "CmFoI4jDS9nx"
      },
      "source": [
        "# Question 3 \n",
        "\n",
        "(15 points). The formula that describes the volume V of a sphere with radius r is the following:\n",
        "\n",
        "$ V=\\frac{4}{3}\\ast\\ \\pi\\ast\\ r^3 $\n",
        "\n",
        "Write a program to calculate the value of V when r is in the range of 1–10. Output the result in the following format:\n",
        "\n",
        "\tr\tV\n",
        "\t1\t…\n",
        "\t2\t…\n",
        "\t3\t…\n"
      ]
    },
    {
      "cell_type": "code",
      "execution_count": null,
      "metadata": {
        "id": "pEyqeioAT95b",
        "outputId": "0c7ec634-b008-43d7-a2e3-15f848ecc4bd"
      },
      "outputs": [
        {
          "name": "stdout",
          "output_type": "stream",
          "text": [
            "r          V\n",
            "1    4.1887902047863905\n",
            "2    33.510321638291124\n",
            "3    113.09733552923254\n",
            "4    268.082573106329\n",
            "5    523.5987755982989\n",
            "6    904.7786842338603\n",
            "7    1436.7550402417319\n",
            "8    2144.660584850632\n",
            "9    3053.6280592892786\n",
            "10    4188.790204786391\n"
          ]
        }
      ],
      "source": [
        "pi = 3.1415926535897931\n",
        "radius = [1,2,3,4,5,6,7,8,9,10]\n",
        "print(\"r          V\")\n",
        "for r in radius:\n",
        "    volume_g = 4.0/3.0 * pi * r**3\n",
        "    print(r,\"  \",volume_g)\n",
        "\n"
      ]
    },
    {
      "cell_type": "markdown",
      "metadata": {
        "id": "z3tBE7E-Xn5X"
      },
      "source": [
        "# Question 4\n",
        "\n",
        "(40 points). In the field of Data Science, data is often formatted as a comma-delimited (CSV) file, where each line in a file corresponds to a field's value. Refer to Chapter 9 (p. 106) for more information on comma-delimited files. To answer this question, you will need to download the file [Assignment1_denton_housing.csv](https://raw.githubusercontent.com/unt-iialab/info5731-spring2022/main/assignments/Assignment1_denton_housing.csv) included with this assignment. The file [Assignment1_denton_housing.csv](https://raw.githubusercontent.com/unt-iialab/info5731-spring2022/main/assignments/Assignment1_denton_housing.csv) contains statistics about housing in the city of Denton from 2008 to 2014. Write a program to implement the following questions.\n",
        "\n",
        "(1) (10 pts) Calculate the difference in the number of Occupied Housing Units from year to year and print it. The difference must be calculated for the consecutive years such as 2008-2009, 2009-2010 etc. Finally, print the values in the ascending order.\n",
        "\n",
        "(2) (10 pts) For all the years, calculate the percentage of housing units which are vacant an occupied. Print the results in the following format:\n",
        "\n",
        "Year Vacant Housing Units Occupied Housing Units\n",
        "\n",
        "    2008  30%   70%                          \n",
        "\t2009 ----- -----\n",
        "\t2010 ----- -----\n",
        "    2011 ----- -----\n",
        "\t2012 ----- -----\n",
        "    2013 ----- -----\n",
        "\t2014 ----- -----\n",
        "  \n",
        "  \n",
        "\n",
        "(3) (10 pts) Calculate and print the valued and years in which the highest number of housing units were vacant and occupied. Print the results in the following format:  \n",
        "\n",
        "                              Year\tValue\n",
        "\tVacant Housing Units\t  -----   -----\n",
        "\tOccupied Housing Units\t-----   -----\n",
        "\n",
        "(4) (10 pts) Calculate the harmonic mean of the total housing units and print it out. You can find the information about harmonic mean here: https://ncalculators.com/statistics/harmonic-mean-calculator.htm"
      ]
    },
    {
      "cell_type": "code",
      "execution_count": null,
      "metadata": {
        "id": "lqGYuHBhcsRH",
        "outputId": "968beb5e-62c0-4a83-eea5-50b53517efef"
      },
      "outputs": [
        {
          "data": {
            "text/plain": [
              "17    -795.0\n",
              "11    -303.0\n",
              "8     1404.0\n",
              "5     1565.0\n",
              "2     2622.0\n",
              "14    5091.0\n",
              "20       NaN\n",
              "Name: value, dtype: float64"
            ]
          },
          "execution_count": 27,
          "metadata": {},
          "output_type": "execute_result"
        }
      ],
      "source": [
        "import pandas as pd\n",
        "Occupied_Housing_gr = pd.read_csv('Assignment1_denton_housing.csv')\n",
        "Diff_df_gr = Occupied_Housing_gr[Occupied_Housing_1['title_field'] == 'Occupied Housing Units'].sort_values(by=['year'])\n",
        "Diff_df_gr.value.diff().sort_values()"
      ]
    },
    {
      "cell_type": "code",
      "execution_count": null,
      "metadata": {
        "id": "uDyIk0SWMz3o",
        "outputId": "7380ce0d-39c4-47ad-b29a-46b4f85d163a"
      },
      "outputs": [
        {
          "data": {
            "text/html": [
              "<div>\n",
              "<style scoped>\n",
              "    .dataframe tbody tr th:only-of-type {\n",
              "        vertical-align: middle;\n",
              "    }\n",
              "\n",
              "    .dataframe tbody tr th {\n",
              "        vertical-align: top;\n",
              "    }\n",
              "\n",
              "    .dataframe thead th {\n",
              "        text-align: right;\n",
              "    }\n",
              "</style>\n",
              "<table border=\"1\" class=\"dataframe\">\n",
              "  <thead>\n",
              "    <tr style=\"text-align: right;\">\n",
              "      <th></th>\n",
              "      <th>Year</th>\n",
              "      <th>Vacant Housing Units</th>\n",
              "      <th>Occupied Housing Units</th>\n",
              "    </tr>\n",
              "  </thead>\n",
              "  <tbody>\n",
              "    <tr>\n",
              "      <th>0</th>\n",
              "      <td>2008</td>\n",
              "      <td>10.88265281351653 %</td>\n",
              "      <td>89.11734718648347 %</td>\n",
              "    </tr>\n",
              "    <tr>\n",
              "      <th>1</th>\n",
              "      <td>2009</td>\n",
              "      <td>9.07111572444872 %</td>\n",
              "      <td>90.92888427555128 %</td>\n",
              "    </tr>\n",
              "    <tr>\n",
              "      <th>2</th>\n",
              "      <td>2010</td>\n",
              "      <td>8.142556337081672 %</td>\n",
              "      <td>91.85744366291833 %</td>\n",
              "    </tr>\n",
              "    <tr>\n",
              "      <th>3</th>\n",
              "      <td>2011</td>\n",
              "      <td>9.379522229890688 %</td>\n",
              "      <td>90.6204777701093 %</td>\n",
              "    </tr>\n",
              "    <tr>\n",
              "      <th>4</th>\n",
              "      <td>2012</td>\n",
              "      <td>6.677600230491346 %</td>\n",
              "      <td>93.32239976950866 %</td>\n",
              "    </tr>\n",
              "    <tr>\n",
              "      <th>5</th>\n",
              "      <td>2013</td>\n",
              "      <td>8.801787504176412 %</td>\n",
              "      <td>91.19821249582358 %</td>\n",
              "    </tr>\n",
              "    <tr>\n",
              "      <th>6</th>\n",
              "      <td>2014</td>\n",
              "      <td>5.730110570363885 %</td>\n",
              "      <td>94.26988942963611 %</td>\n",
              "    </tr>\n",
              "  </tbody>\n",
              "</table>\n",
              "</div>"
            ],
            "text/plain": [
              "   Year Vacant Housing Units Occupied Housing Units\n",
              "0  2008  10.88265281351653 %    89.11734718648347 %\n",
              "1  2009   9.07111572444872 %    90.92888427555128 %\n",
              "2  2010  8.142556337081672 %    91.85744366291833 %\n",
              "3  2011  9.379522229890688 %     90.6204777701093 %\n",
              "4  2012  6.677600230491346 %    93.32239976950866 %\n",
              "5  2013  8.801787504176412 %    91.19821249582358 %\n",
              "6  2014  5.730110570363885 %    94.26988942963611 %"
            ]
          },
          "execution_count": 28,
          "metadata": {},
          "output_type": "execute_result"
        }
      ],
      "source": [
        "#2\n",
        "import pandas as pd\n",
        "vacant_housing_gr = Occupied_Housing_gr[Occupied_Housing_gr['title_field'] == 'Vacant Housing Units'].sort_values(by=['year'])['value'].values.tolist()\n",
        "occupied_Units_gr = Occupied_Housing_gr[Occupied_Housing_gr['title_field'] == 'Occupied Housing Units'].sort_values(by=['year'])['value'].values.tolist()\n",
        "total_housing_gr = Occupied_Housing_gr[Occupied_Housing_gr['title_field'] == 'Total Housing Units'].sort_values(by=['year'])['value'].values.tolist()\n",
        "last_year = Occupied_Housing_gr[Occupied_Housing_gr['title_field'] == 'Total Housing Units'].sort_values(by=['year'])['year'].values.tolist()\n",
        "vacant_housing_prct = [str((vacant/total)*100)+' %' for vacant,total in zip(vacant_housing_gr,total_housing_gr)]\n",
        "occupied_housing_prct = [str((ind/total)*100)+' %' for ind, total in zip(occupied_Units_gr, total_housing_gr)]\n",
        "Final_Res = pd.DataFrame(list(zip(last_year,vacant_housing_prct, occupied_housing_prct)), columns =['Year','Vacant Housing Units', 'Occupied Housing Units'])\n",
        "Final_Res"
      ]
    },
    {
      "cell_type": "code",
      "execution_count": null,
      "metadata": {
        "id": "fohuHJP-Mz3p",
        "outputId": "6f19af9e-8591-442e-c0ac-baca1cb2086d"
      },
      "outputs": [
        {
          "name": "stdout",
          "output_type": "stream",
          "text": [
            "               title_field  year  value\n",
            "2   Occupied Housing Units  2014  46295\n",
            "19    Vacant Housing Units  2008   4483\n"
          ]
        }
      ],
      "source": [
        "## Q 3 \n",
        "vacant_rooms_gr = Occupied_Housing_gr[Occupied_Housing_gr['title_field'] == 'Vacant Housing Units']\n",
        "High_Number_gr = pd.concat([Diff_df_gr[Diff_df_gr['value'] == Diff_df_gr['value'].max()],vacant_rooms_gr[vacant_rooms_gr['value'] == vacant_rooms_gr['value'].max()]])\n",
        "print(High_Number_gr[['title_field','year','value']])"
      ]
    },
    {
      "cell_type": "code",
      "execution_count": null,
      "metadata": {
        "id": "UoNv5W3WMz3p",
        "outputId": "3df5dbce-0d16-4cfc-865d-69ead70f621b"
      },
      "outputs": [
        {
          "name": "stdout",
          "output_type": "stream",
          "text": [
            "44398.28543969185\n"
          ]
        }
      ],
      "source": [
        "##Q 4 \n",
        "from scipy import stats\n",
        "print(stats.hmean(total_housing_gr))"
      ]
    },
    {
      "cell_type": "code",
      "execution_count": null,
      "metadata": {
        "id": "38jMFDo3Mz3q"
      },
      "outputs": [],
      "source": []
    }
  ],
  "metadata": {
    "colab": {
      "provenance": [],
      "include_colab_link": true
    },
    "kernelspec": {
      "display_name": "Python 3 (ipykernel)",
      "language": "python",
      "name": "python3"
    },
    "language_info": {
      "codemirror_mode": {
        "name": "ipython",
        "version": 3
      },
      "file_extension": ".py",
      "mimetype": "text/x-python",
      "name": "python",
      "nbconvert_exporter": "python",
      "pygments_lexer": "ipython3",
      "version": "3.9.12"
    }
  },
  "nbformat": 4,
  "nbformat_minor": 0
}