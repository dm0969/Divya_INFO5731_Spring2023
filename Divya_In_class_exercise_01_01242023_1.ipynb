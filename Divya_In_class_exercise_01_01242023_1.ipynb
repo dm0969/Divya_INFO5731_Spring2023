{
  "cells": [
    {
      "cell_type": "markdown",
      "metadata": {
        "id": "view-in-github",
        "colab_type": "text"
      },
      "source": [
        "<a href=\"https://colab.research.google.com/github/dm0969/Divya_INFO5731_Spring2023/blob/main/Divya_In_class_exercise_01_01242023_1.ipynb\" target=\"_parent\"><img src=\"https://colab.research.google.com/assets/colab-badge.svg\" alt=\"Open In Colab\"/></a>"
      ]
    },
    {
      "cell_type": "markdown",
      "metadata": {
        "id": "DymRJbxDBCnf"
      },
      "source": [
        "# **The first In-class-exercise (01/24/2023, 40 points in total)**"
      ]
    },
    {
      "cell_type": "markdown",
      "metadata": {
        "id": "03jb4GZsBkBS"
      },
      "source": [
        "(1) Write a Python program to calculate the length of a string. (4 points)"
      ]
    },
    {
      "cell_type": "code",
      "execution_count": null,
      "metadata": {
        "colab": {
          "base_uri": "https://localhost:8080/"
        },
        "id": "YaGLbSHHB8Ej",
        "outputId": "46843c61-81fc-452d-e238-348e75aa0f2c"
      },
      "outputs": [
        {
          "output_type": "stream",
          "name": "stdout",
          "text": [
            "5\n"
          ]
        }
      ],
      "source": [
        "# write your answer here\n",
        "D='Divya'\n",
        "print(len(D))\n"
      ]
    },
    {
      "cell_type": "markdown",
      "metadata": {
        "id": "jJDe71iLB616"
      },
      "source": [
        "(2) Write a Python program to count the number of characters in a string. (4 points)\n",
        "\n",
        "Sample String : 'google.com‘, \n",
        "\n",
        "Expected Result : {'o': 3, 'g': 2, '.': 1, 'e': 1, 'l': 1, 'm': 1, 'c': 1}"
      ]
    },
    {
      "cell_type": "code",
      "execution_count": null,
      "metadata": {
        "colab": {
          "base_uri": "https://localhost:8080/"
        },
        "id": "MtKskTzbCLaU",
        "outputId": "c481abfd-44c5-4b54-dba9-fa96ccc73e48"
      },
      "outputs": [
        {
          "output_type": "stream",
          "name": "stdout",
          "text": [
            "{'d': 3, 'y': 2, 'i': 1, 'v': 1, 'a': 1, 'r': 1, 'e': 1}\n"
          ]
        }
      ],
      "source": [
        "# write your answer here\n",
        "D='divyareddy'\n",
        "a={} \n",
        "for i in D:\n",
        " k=a.keys()\n",
        " if i in k:\n",
        "  a[i]+=1\n",
        " else:\n",
        "  a[i]=1\n",
        "sort = sorted(a.items(), key=lambda x:x[1], reverse=True)\n",
        "con_dict = dict(sort)\n",
        "print(con_dict)\n"
      ]
    },
    {
      "cell_type": "markdown",
      "metadata": {
        "id": "55W9AMdXCSpV"
      },
      "source": [
        "(3) Write a Python program to sum all the items in a list. (4 points)"
      ]
    },
    {
      "cell_type": "code",
      "execution_count": null,
      "metadata": {
        "colab": {
          "base_uri": "https://localhost:8080/"
        },
        "id": "I57NXsauCec2",
        "outputId": "c5d813dc-2738-4bf0-bb11-1c15d71276ba"
      },
      "outputs": [
        {
          "output_type": "stream",
          "name": "stdout",
          "text": [
            "110\n"
          ]
        }
      ],
      "source": [
        "# write your answer here\n",
        "list_1=[10,20,30,50] \n",
        "s=0\n",
        "for i in range(len(list_1)):\n",
        "  s=s+list_1[i]\n",
        "print(s)\n"
      ]
    },
    {
      "cell_type": "markdown",
      "metadata": {
        "id": "4ulBZ6yhCi9F"
      },
      "source": [
        "(4) Write a Python program to get a string from a given string where all occurrences of its first char have been changed to '\\$', except the first char itself. (4 points)\n",
        "\n",
        "Sample String : 'restart‘, \n",
        "\n",
        "Expected Result : 'resta\\$t'"
      ]
    },
    {
      "cell_type": "code",
      "execution_count": null,
      "metadata": {
        "colab": {
          "base_uri": "https://localhost:8080/"
        },
        "id": "Fj0XhwbBCw2o",
        "outputId": "b692b33a-47b5-406e-b0fe-479a374a29ca"
      },
      "outputs": [
        {
          "output_type": "stream",
          "name": "stdout",
          "text": [
            "red$y\n"
          ]
        }
      ],
      "source": [
        "# write your answer here\n",
        "str_1 = \"reddy\"\n",
        "r = str_1.replace(\"d\", \"$\").replace(\"$\", \"d\", 1)\n",
        "print(r)\n"
      ]
    },
    {
      "cell_type": "markdown",
      "metadata": {
        "id": "_bIP7s1MCzue"
      },
      "source": [
        "(5) Write a program with python which could accept two parameter a and b to calculate and output the result of S, where \n",
        "\n",
        "$\\ S=3.14*(1+a/b)^3$ (4 points)\n",
        "\n"
      ]
    },
    {
      "cell_type": "code",
      "execution_count": null,
      "metadata": {
        "colab": {
          "base_uri": "https://localhost:8080/"
        },
        "id": "w79QilHXD3Mg",
        "outputId": "b2f4c170-8b4c-4b6f-f6fc-50e826ba7deb"
      },
      "outputs": [
        {
          "output_type": "stream",
          "name": "stdout",
          "text": [
            "21.161618655692727\n"
          ]
        }
      ],
      "source": [
        "# write your answer here\n",
        "s=8 \n",
        "g=9\n",
        "S=3.14*((1+s/g)**3)\n",
        "print(S)\n"
      ]
    },
    {
      "cell_type": "markdown",
      "metadata": {
        "id": "xCa2bK9aD4Q3"
      },
      "source": [
        "(6) Write a Python program to concatenate following dictionaries to create a new one. (4 points)\n",
        "\n",
        "Sample Dictionary : dic1={1:10, 2:20}, dic2={3:30, 4:40}, dic3={5:50,6:60}, \n",
        "\n",
        "Expected Result : {1: 10, 2: 20, 3: 30, 4: 40, 5: 50, 6: 60}\n"
      ]
    },
    {
      "cell_type": "code",
      "execution_count": null,
      "metadata": {
        "colab": {
          "base_uri": "https://localhost:8080/"
        },
        "id": "_z4aLqAbEET1",
        "outputId": "f7d6a784-0575-4311-dfbd-2dcdfab957e9"
      },
      "outputs": [
        {
          "output_type": "stream",
          "name": "stdout",
          "text": [
            "{1: 10, 2: 20, 3: 30, 4: 40, 5: 50, 6: 60}\n"
          ]
        }
      ],
      "source": [
        "# write your answer here\n",
        "\n",
        "Dit1={1:10, 2:20}\n",
        "Dit2={3:30, 4:40}\n",
        "Dit3={5:50,6:60}\n",
        "Dit1.update(Dit2)\n",
        "Dit1.update(Dit3)\n",
        "print(Dit1)\n"
      ]
    },
    {
      "cell_type": "markdown",
      "metadata": {
        "id": "0v48Vqa7FrQh"
      },
      "source": [
        "(7) Write a Python program to check whether an element exists within a tuple. (4 points)"
      ]
    },
    {
      "cell_type": "code",
      "execution_count": null,
      "metadata": {
        "colab": {
          "base_uri": "https://localhost:8080/"
        },
        "id": "7WEmgq-DF2P1",
        "outputId": "d033eeb6-be65-45bd-9cae-6287f3d12f6a"
      },
      "outputs": [
        {
          "output_type": "stream",
          "name": "stdout",
          "text": [
            "True\n",
            "False\n",
            "True\n"
          ]
        }
      ],
      "source": [
        "# write your answer here\n",
        "\n",
        "T1=(20,25,20,44)\n",
        "print(20 in T1)\n",
        "print(45 in T1)\n",
        "print(25 in T1)\n"
      ]
    },
    {
      "cell_type": "markdown",
      "metadata": {
        "id": "vD5PYLMuGga_"
      },
      "source": [
        "(8) Write a Python program to find maximum and the minimum value in a set. (4 points)"
      ]
    },
    {
      "cell_type": "code",
      "execution_count": null,
      "metadata": {
        "colab": {
          "base_uri": "https://localhost:8080/"
        },
        "id": "t0D5kdJUGjjw",
        "outputId": "cd3a1d4f-2f94-410f-fd61-d1232265931e"
      },
      "outputs": [
        {
          "output_type": "stream",
          "name": "stdout",
          "text": [
            "68\n",
            "7\n"
          ]
        }
      ],
      "source": [
        "# write your answer here\n",
        "\n",
        "S1={35,45,68,8,7}\n",
        "print(max(S1))\n",
        "print(min(S1))\n"
      ]
    },
    {
      "cell_type": "markdown",
      "metadata": {
        "id": "uHkd-y5VhVWC"
      },
      "source": [
        "(9) Write a Python program to randomly divide the students in this class into six groups for term projects, each group should have at least 4 students but no more than 6 students (including 6). Here is the students list: (4 points)\n",
        "\n",
        "studnet_list = ['ja0964','sa1198','sb1357','vb0218','sc1229','kg0569','kg0470','sg1297','bg0320','fh0141','jl1252','sk1386',\n",
        "           'ak0956','sk1390','sk1458','sk1313','ak0934','vm0377','nm0618','sm1640','sm1907','gn0108','pr0353','dr0609','ms1500','aos0040','ds0814', 'av0659','nv0234','hy0232']"
      ]
    },
    {
      "cell_type": "code",
      "execution_count": null,
      "metadata": {
        "colab": {
          "base_uri": "https://localhost:8080/"
        },
        "id": "3iGbmcOBhTwy",
        "outputId": "fb08492f-64fc-4979-864c-3249ca788ad4"
      },
      "outputs": [
        {
          "output_type": "stream",
          "name": "stdout",
          "text": [
            "[['ja0964', 'sa1198', 'sb1357', 'vb0218'], ['sc1229', 'kg0569', 'kg0470', 'sg1297', 'bg0320'], ['fh0141', 'jl1252', 'sk1386', 'ak0956', 'sk1390'], ['sk1458', 'sk1313', 'ak0934', 'vm0377', 'nm0618', 'sm1640'], ['sm1907', 'gn0108', 'pr0353', 'dr0609'], ['ms1500', 'aos0040', 'ds0814', 'av0659', 'nv0234']]\n"
          ]
        }
      ],
      "source": [
        "# write your answer here\n",
        "from itertools import islice\n",
        "from random import randint\n",
        "\n",
        "S_List =  ['ja0964','sa1198','sb1357','vb0218','sc1229','kg0569','kg0470','sg1297','bg0320','fh0141','jl1252','sk1386', 'ak0956','sk1390','sk1458','sk1313','ak0934','vm0377','nm0618','sm1640','sm1907','gn0108','pr0353','dr0609','ms1500','aos0040','ds0814', 'av0659','nv0234','hy0232']\n",
        "def students(S_List, NGroups, minSize=4, maxSize=6):\n",
        "    List_s = iter(S_List)\n",
        "    for i in range(NGroups):\n",
        "      Group = list(islice(List_s,randint(minSize,maxSize)))\n",
        "      if Group:\n",
        "            yield Group\n",
        "      else:\n",
        "            break\n",
        "print(list(students(S_List,6)))\n"
      ]
    },
    {
      "cell_type": "markdown",
      "metadata": {
        "id": "7_QayhsPX3uD"
      },
      "source": [
        "(10) Write a Python program to find the duplicate elements in a given array of integers. Return -1 If there are no such elements. (4 points)"
      ]
    },
    {
      "cell_type": "code",
      "execution_count": null,
      "metadata": {
        "colab": {
          "base_uri": "https://localhost:8080/"
        },
        "id": "OgY0UolNX3uD",
        "outputId": "268ed5a8-07b5-4c03-fe61-893a0702d26f"
      },
      "outputs": [
        {
          "output_type": "stream",
          "name": "stdout",
          "text": [
            "[20, 30]\n",
            "-1\n"
          ]
        }
      ],
      "source": [
        "# write your answer here\n",
        "def dup(ele):\n",
        "    a=0\n",
        "    r=[]\n",
        "    for i in range(len(ele)):\n",
        "        for j in range(i+1,len(ele)):\n",
        "            if ele[i]==ele[j]:\n",
        "                r.append(ele[i])\n",
        "    if len(r)==0:\n",
        "        return -1;\n",
        "    else:\n",
        "        return r;\n",
        "\n",
        "List1=[20,30,40,50,60,70,20,30]\n",
        "print(dup(List1))\n",
        "\n",
        "List2 = [10,11,22,33,]\n",
        "print(dup(List2))\n"
      ]
    },
    {
      "cell_type": "markdown",
      "metadata": {
        "id": "XuT0W7JyX3uE"
      },
      "source": [
        "(11) Write a Python program to select all the Sundays of a specified year. (4 extra points)"
      ]
    },
    {
      "cell_type": "code",
      "execution_count": null,
      "metadata": {
        "colab": {
          "base_uri": "https://localhost:8080/"
        },
        "id": "zfIf6OqxX3uE",
        "outputId": "35dff030-5989-4be9-8441-4f84d4dca8d9"
      },
      "outputs": [
        {
          "output_type": "stream",
          "name": "stdout",
          "text": [
            "2023-01-01\n",
            "2023-01-08\n",
            "2023-01-15\n",
            "2023-01-22\n",
            "2023-01-29\n",
            "2023-02-05\n",
            "2023-02-12\n",
            "2023-02-19\n",
            "2023-02-26\n",
            "2023-03-05\n",
            "2023-03-12\n",
            "2023-03-19\n",
            "2023-03-26\n",
            "2023-04-02\n",
            "2023-04-09\n",
            "2023-04-16\n",
            "2023-04-23\n",
            "2023-04-30\n",
            "2023-05-07\n",
            "2023-05-14\n",
            "2023-05-21\n",
            "2023-05-28\n",
            "2023-06-04\n",
            "2023-06-11\n",
            "2023-06-18\n",
            "2023-06-25\n",
            "2023-07-02\n",
            "2023-07-09\n",
            "2023-07-16\n",
            "2023-07-23\n",
            "2023-07-30\n",
            "2023-08-06\n",
            "2023-08-13\n",
            "2023-08-20\n",
            "2023-08-27\n",
            "2023-09-03\n",
            "2023-09-10\n",
            "2023-09-17\n",
            "2023-09-24\n",
            "2023-10-01\n",
            "2023-10-08\n",
            "2023-10-15\n",
            "2023-10-22\n",
            "2023-10-29\n",
            "2023-11-05\n",
            "2023-11-12\n",
            "2023-11-19\n",
            "2023-11-26\n",
            "2023-12-03\n",
            "2023-12-10\n",
            "2023-12-17\n",
            "2023-12-24\n",
            "2023-12-31\n"
          ]
        }
      ],
      "source": [
        "# write your answer here\n",
        "\n",
        "from datetime import date, timedelta\n",
        "def Sundays_Yr(year):\n",
        "       dt_sun = date(year, 1, 1)      \n",
        "       dt_sun += timedelta(days = 6 - dt_sun.weekday())  \n",
        "       while dt_sun.year == year:\n",
        "          yield dt_sun\n",
        "          dt_sun += timedelta(days = 7)\n",
        "for i in Sundays_Yr(2023):\n",
        "   print(i)\n"
      ]
    }
  ],
  "metadata": {
    "colab": {
      "provenance": [],
      "include_colab_link": true
    },
    "kernelspec": {
      "display_name": "Python 3 (ipykernel)",
      "language": "python",
      "name": "python3"
    },
    "language_info": {
      "codemirror_mode": {
        "name": "ipython",
        "version": 3
      },
      "file_extension": ".py",
      "mimetype": "text/x-python",
      "name": "python",
      "nbconvert_exporter": "python",
      "pygments_lexer": "ipython3",
      "version": "3.9.12"
    }
  },
  "nbformat": 4,
  "nbformat_minor": 0
}